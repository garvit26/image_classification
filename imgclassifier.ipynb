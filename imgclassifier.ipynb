{
  "nbformat": 4,
  "nbformat_minor": 0,
  "metadata": {
    "colab": {
      "provenance": [],
      "authorship_tag": "ABX9TyOd1as0a+CMnzvaWTujDNH7",
      "include_colab_link": true
    },
    "kernelspec": {
      "name": "python3",
      "display_name": "Python 3"
    },
    "language_info": {
      "name": "python"
    }
  },
  "cells": [
    {
      "cell_type": "markdown",
      "metadata": {
        "id": "view-in-github",
        "colab_type": "text"
      },
      "source": [
        "<a href=\"https://colab.research.google.com/github/garvit26/image_classification/blob/main/imgclassifier.ipynb\" target=\"_parent\"><img src=\"https://colab.research.google.com/assets/colab-badge.svg\" alt=\"Open In Colab\"/></a>"
      ]
    },
    {
      "cell_type": "code",
      "execution_count": null,
      "metadata": {
        "colab": {
          "base_uri": "https://localhost:8080/"
        },
        "id": "JSuIfFOfbUjo",
        "outputId": "149041b2-a46d-4788-a264-0eda9abdef11"
      },
      "outputs": [
        {
          "output_type": "stream",
          "name": "stdout",
          "text": [
            "Requirement already satisfied: tensorflow in /usr/local/lib/python3.10/dist-packages (2.15.0)\n",
            "Requirement already satisfied: absl-py>=1.0.0 in /usr/local/lib/python3.10/dist-packages (from tensorflow) (1.4.0)\n",
            "Requirement already satisfied: astunparse>=1.6.0 in /usr/local/lib/python3.10/dist-packages (from tensorflow) (1.6.3)\n",
            "Requirement already satisfied: flatbuffers>=23.5.26 in /usr/local/lib/python3.10/dist-packages (from tensorflow) (23.5.26)\n",
            "Requirement already satisfied: gast!=0.5.0,!=0.5.1,!=0.5.2,>=0.2.1 in /usr/local/lib/python3.10/dist-packages (from tensorflow) (0.5.4)\n",
            "Requirement already satisfied: google-pasta>=0.1.1 in /usr/local/lib/python3.10/dist-packages (from tensorflow) (0.2.0)\n",
            "Requirement already satisfied: h5py>=2.9.0 in /usr/local/lib/python3.10/dist-packages (from tensorflow) (3.9.0)\n",
            "Requirement already satisfied: libclang>=13.0.0 in /usr/local/lib/python3.10/dist-packages (from tensorflow) (16.0.6)\n",
            "Requirement already satisfied: ml-dtypes~=0.2.0 in /usr/local/lib/python3.10/dist-packages (from tensorflow) (0.2.0)\n",
            "Requirement already satisfied: numpy<2.0.0,>=1.23.5 in /usr/local/lib/python3.10/dist-packages (from tensorflow) (1.23.5)\n",
            "Requirement already satisfied: opt-einsum>=2.3.2 in /usr/local/lib/python3.10/dist-packages (from tensorflow) (3.3.0)\n",
            "Requirement already satisfied: packaging in /usr/local/lib/python3.10/dist-packages (from tensorflow) (23.2)\n",
            "Requirement already satisfied: protobuf!=4.21.0,!=4.21.1,!=4.21.2,!=4.21.3,!=4.21.4,!=4.21.5,<5.0.0dev,>=3.20.3 in /usr/local/lib/python3.10/dist-packages (from tensorflow) (3.20.3)\n",
            "Requirement already satisfied: setuptools in /usr/local/lib/python3.10/dist-packages (from tensorflow) (67.7.2)\n",
            "Requirement already satisfied: six>=1.12.0 in /usr/local/lib/python3.10/dist-packages (from tensorflow) (1.16.0)\n",
            "Requirement already satisfied: termcolor>=1.1.0 in /usr/local/lib/python3.10/dist-packages (from tensorflow) (2.4.0)\n",
            "Requirement already satisfied: typing-extensions>=3.6.6 in /usr/local/lib/python3.10/dist-packages (from tensorflow) (4.5.0)\n",
            "Requirement already satisfied: wrapt<1.15,>=1.11.0 in /usr/local/lib/python3.10/dist-packages (from tensorflow) (1.14.1)\n",
            "Requirement already satisfied: tensorflow-io-gcs-filesystem>=0.23.1 in /usr/local/lib/python3.10/dist-packages (from tensorflow) (0.35.0)\n",
            "Requirement already satisfied: grpcio<2.0,>=1.24.3 in /usr/local/lib/python3.10/dist-packages (from tensorflow) (1.60.0)\n",
            "Requirement already satisfied: tensorboard<2.16,>=2.15 in /usr/local/lib/python3.10/dist-packages (from tensorflow) (2.15.1)\n",
            "Requirement already satisfied: tensorflow-estimator<2.16,>=2.15.0 in /usr/local/lib/python3.10/dist-packages (from tensorflow) (2.15.0)\n",
            "Requirement already satisfied: keras<2.16,>=2.15.0 in /usr/local/lib/python3.10/dist-packages (from tensorflow) (2.15.0)\n",
            "Requirement already satisfied: wheel<1.0,>=0.23.0 in /usr/local/lib/python3.10/dist-packages (from astunparse>=1.6.0->tensorflow) (0.42.0)\n",
            "Requirement already satisfied: google-auth<3,>=1.6.3 in /usr/local/lib/python3.10/dist-packages (from tensorboard<2.16,>=2.15->tensorflow) (2.17.3)\n",
            "Requirement already satisfied: google-auth-oauthlib<2,>=0.5 in /usr/local/lib/python3.10/dist-packages (from tensorboard<2.16,>=2.15->tensorflow) (1.2.0)\n",
            "Requirement already satisfied: markdown>=2.6.8 in /usr/local/lib/python3.10/dist-packages (from tensorboard<2.16,>=2.15->tensorflow) (3.5.1)\n",
            "Requirement already satisfied: requests<3,>=2.21.0 in /usr/local/lib/python3.10/dist-packages (from tensorboard<2.16,>=2.15->tensorflow) (2.31.0)\n",
            "Requirement already satisfied: tensorboard-data-server<0.8.0,>=0.7.0 in /usr/local/lib/python3.10/dist-packages (from tensorboard<2.16,>=2.15->tensorflow) (0.7.2)\n",
            "Requirement already satisfied: werkzeug>=1.0.1 in /usr/local/lib/python3.10/dist-packages (from tensorboard<2.16,>=2.15->tensorflow) (3.0.1)\n",
            "Requirement already satisfied: cachetools<6.0,>=2.0.0 in /usr/local/lib/python3.10/dist-packages (from google-auth<3,>=1.6.3->tensorboard<2.16,>=2.15->tensorflow) (5.3.2)\n",
            "Requirement already satisfied: pyasn1-modules>=0.2.1 in /usr/local/lib/python3.10/dist-packages (from google-auth<3,>=1.6.3->tensorboard<2.16,>=2.15->tensorflow) (0.3.0)\n",
            "Requirement already satisfied: rsa<5,>=3.1.4 in /usr/local/lib/python3.10/dist-packages (from google-auth<3,>=1.6.3->tensorboard<2.16,>=2.15->tensorflow) (4.9)\n",
            "Requirement already satisfied: requests-oauthlib>=0.7.0 in /usr/local/lib/python3.10/dist-packages (from google-auth-oauthlib<2,>=0.5->tensorboard<2.16,>=2.15->tensorflow) (1.3.1)\n",
            "Requirement already satisfied: charset-normalizer<4,>=2 in /usr/local/lib/python3.10/dist-packages (from requests<3,>=2.21.0->tensorboard<2.16,>=2.15->tensorflow) (3.3.2)\n",
            "Requirement already satisfied: idna<4,>=2.5 in /usr/local/lib/python3.10/dist-packages (from requests<3,>=2.21.0->tensorboard<2.16,>=2.15->tensorflow) (3.6)\n",
            "Requirement already satisfied: urllib3<3,>=1.21.1 in /usr/local/lib/python3.10/dist-packages (from requests<3,>=2.21.0->tensorboard<2.16,>=2.15->tensorflow) (2.0.7)\n",
            "Requirement already satisfied: certifi>=2017.4.17 in /usr/local/lib/python3.10/dist-packages (from requests<3,>=2.21.0->tensorboard<2.16,>=2.15->tensorflow) (2023.11.17)\n",
            "Requirement already satisfied: MarkupSafe>=2.1.1 in /usr/local/lib/python3.10/dist-packages (from werkzeug>=1.0.1->tensorboard<2.16,>=2.15->tensorflow) (2.1.3)\n",
            "Requirement already satisfied: pyasn1<0.6.0,>=0.4.6 in /usr/local/lib/python3.10/dist-packages (from pyasn1-modules>=0.2.1->google-auth<3,>=1.6.3->tensorboard<2.16,>=2.15->tensorflow) (0.5.1)\n",
            "Requirement already satisfied: oauthlib>=3.0.0 in /usr/local/lib/python3.10/dist-packages (from requests-oauthlib>=0.7.0->google-auth-oauthlib<2,>=0.5->tensorboard<2.16,>=2.15->tensorflow) (3.2.2)\n",
            "Requirement already satisfied: keras in /usr/local/lib/python3.10/dist-packages (2.15.0)\n",
            "Requirement already satisfied: opencv-python in /usr/local/lib/python3.10/dist-packages (4.8.0.76)\n",
            "Requirement already satisfied: numpy>=1.21.2 in /usr/local/lib/python3.10/dist-packages (from opencv-python) (1.23.5)\n"
          ]
        }
      ],
      "source": [
        "!pip install --user tensorflow\n",
        "!pip install --user keras\n",
        "!pip install opencv-python"
      ]
    },
    {
      "cell_type": "code",
      "source": [
        "import tensorflow as tf\n",
        "import os"
      ],
      "metadata": {
        "id": "3FAkuHNjcZxx"
      },
      "execution_count": null,
      "outputs": []
    },
    {
      "cell_type": "code",
      "source": [
        "import numpy as np\n",
        "from matplotlib import pyplot as plt"
      ],
      "metadata": {
        "id": "7snEKd9edwXx"
      },
      "execution_count": null,
      "outputs": []
    },
    {
      "cell_type": "code",
      "source": [
        "from google.colab import drive\n",
        "drive.mount('/content/drive')"
      ],
      "metadata": {
        "colab": {
          "base_uri": "https://localhost:8080/"
        },
        "id": "tuJ37ZXCd35H",
        "outputId": "b2700bb0-18d8-4257-a19e-550a440ec955"
      },
      "execution_count": null,
      "outputs": [
        {
          "output_type": "stream",
          "name": "stdout",
          "text": [
            "Mounted at /content/drive\n"
          ]
        }
      ]
    },
    {
      "cell_type": "code",
      "source": [
        "path='/content/drive/My Drive/dataset/train'"
      ],
      "metadata": {
        "id": "PjuwDLgyesPt"
      },
      "execution_count": null,
      "outputs": []
    },
    {
      "cell_type": "code",
      "source": [
        "data = tf.keras.utils.image_dataset_from_directory(path)"
      ],
      "metadata": {
        "colab": {
          "base_uri": "https://localhost:8080/"
        },
        "id": "dF35rT2Kezui",
        "outputId": "78c826f2-9a29-48f1-ddf5-6c0fbe8992ad"
      },
      "execution_count": null,
      "outputs": [
        {
          "output_type": "stream",
          "name": "stdout",
          "text": [
            "Found 120 files belonging to 5 classes.\n"
          ]
        }
      ]
    },
    {
      "cell_type": "code",
      "source": [
        "image_size = (256, 256)\n",
        "batch_size = 5\n",
        "epochs = 10\n",
        "num_classes = 5"
      ],
      "metadata": {
        "id": "xMh07c6_e513"
      },
      "execution_count": null,
      "outputs": []
    },
    {
      "cell_type": "markdown",
      "source": [
        "basic CNN"
      ],
      "metadata": {
        "id": "tnQgO04ZsBi2"
      }
    },
    {
      "cell_type": "code",
      "source": [
        "from tensorflow.keras.models import Sequential\n",
        "from tensorflow.keras.layers import Conv2D, MaxPooling2D, Flatten, Dense, BatchNormalization, Dropout\n",
        "from tensorflow.keras.preprocessing.image import ImageDataGenerator\n",
        "from tensorflow.keras.layers import Dropout\n",
        "from tensorflow.keras.optimizers import Adam\n",
        "from tensorflow.keras.layers import BatchNormalization\n",
        "from tensorflow.keras.callbacks import LearningRateScheduler\n",
        "from tensorflow.keras.optimizers import RMSprop\n",
        "from tensorflow.keras.initializers import he_normal"
      ],
      "metadata": {
        "id": "EJ89a3bvfBtx"
      },
      "execution_count": null,
      "outputs": []
    },
    {
      "cell_type": "code",
      "source": [
        "model = Sequential()\n",
        "def lr_schedule(epoch):\n",
        "    return 0.001 * 0.9 ** epoch"
      ],
      "metadata": {
        "id": "7cadphvofF1B"
      },
      "execution_count": null,
      "outputs": []
    },
    {
      "cell_type": "code",
      "source": [
        "model.add(Conv2D(32, (3, 3), activation='relu', input_shape=(256, 256, 3)))\n",
        "model.add(MaxPooling2D(pool_size=(2, 2)))\n",
        "\n",
        "model.add(Conv2D(64, (3, 3), activation='relu'))\n",
        "model.add(MaxPooling2D(pool_size=(2, 2)))\n",
        "\n",
        "model.add(Conv2D(128, (3, 3), activation='relu'))\n",
        "model.add(MaxPooling2D(pool_size=(2, 2)))\n",
        "\n",
        "model.add(Flatten())\n",
        "\n",
        "model.add(Dense(256, activation='relu'))\n",
        "model.add(Dropout(0.5))\n",
        "model.add(Dense(1, activation='sigmoid'))\n",
        "model.add(BatchNormalization())"
      ],
      "metadata": {
        "id": "xe0ohellfJ7x"
      },
      "execution_count": null,
      "outputs": []
    },
    {
      "cell_type": "code",
      "source": [
        "model.compile(optimizer=RMSprop(learning_rate=0.0001), loss=tf.losses.BinaryCrossentropy(), metrics=['accuracy'])\n",
        "lr_scheduler = LearningRateScheduler(lr_schedule)"
      ],
      "metadata": {
        "id": "LlvcDXXnfPBJ"
      },
      "execution_count": null,
      "outputs": []
    },
    {
      "cell_type": "code",
      "source": [
        "train_datagen = ImageDataGenerator(rescale=1./255, shear_range=0.2, zoom_range=0.2, horizontal_flip=True)\n",
        "train_generator = train_datagen.flow_from_directory(\n",
        "        path,\n",
        "        target_size=image_size,\n",
        "        batch_size=batch_size,\n",
        "        class_mode='categorical',\n",
        "        )"
      ],
      "metadata": {
        "colab": {
          "base_uri": "https://localhost:8080/"
        },
        "id": "WExcRnzdfTPL",
        "outputId": "b4e15945-6e61-4948-b679-d4d221c31773"
      },
      "execution_count": null,
      "outputs": [
        {
          "output_type": "stream",
          "name": "stdout",
          "text": [
            "Found 120 images belonging to 5 classes.\n"
          ]
        }
      ]
    },
    {
      "cell_type": "code",
      "source": [
        "try:\n",
        "    model.fit(train_generator, epochs=epochs,callbacks=[lr_scheduler])\n",
        "except Exception as e:\n",
        "    print(e)"
      ],
      "metadata": {
        "colab": {
          "base_uri": "https://localhost:8080/"
        },
        "id": "_Rk4VS9ZfaPB",
        "outputId": "639dd476-68e2-4fca-ae20-8cfa53992391"
      },
      "execution_count": null,
      "outputs": [
        {
          "output_type": "stream",
          "name": "stdout",
          "text": [
            "Epoch 1/10\n",
            "24/24 [==============================] - 38s 2s/step - loss: 3.2049 - accuracy: 0.7650 - lr: 0.0010\n",
            "Epoch 2/10\n",
            "24/24 [==============================] - 38s 2s/step - loss: 3.0850 - accuracy: 0.8000 - lr: 9.0000e-04\n",
            "Epoch 3/10\n",
            "24/24 [==============================] - 36s 2s/step - loss: 3.0850 - accuracy: 0.8000 - lr: 8.1000e-04\n",
            "Epoch 4/10\n",
            "24/24 [==============================] - 38s 2s/step - loss: 3.0850 - accuracy: 0.8000 - lr: 7.2900e-04\n",
            "Epoch 5/10\n",
            "24/24 [==============================] - 37s 2s/step - loss: 3.0850 - accuracy: 0.8000 - lr: 6.5610e-04\n",
            "Epoch 6/10\n",
            "24/24 [==============================] - 38s 2s/step - loss: 3.0850 - accuracy: 0.8000 - lr: 5.9049e-04\n",
            "Epoch 7/10\n",
            "24/24 [==============================] - 39s 2s/step - loss: 3.0850 - accuracy: 0.8000 - lr: 5.3144e-04\n",
            "Epoch 8/10\n",
            "24/24 [==============================] - 37s 2s/step - loss: 3.0850 - accuracy: 0.8000 - lr: 4.7830e-04\n",
            "Epoch 9/10\n",
            "24/24 [==============================] - 37s 2s/step - loss: 3.0850 - accuracy: 0.8000 - lr: 4.3047e-04\n",
            "Epoch 10/10\n",
            "24/24 [==============================] - 38s 2s/step - loss: 3.0850 - accuracy: 0.8000 - lr: 3.8742e-04\n"
          ]
        }
      ]
    },
    {
      "cell_type": "code",
      "source": [
        "val_path='/content/drive/My Drive/dataset/val'\n",
        "test_path='/content/drive/My Drive/dataset/test'"
      ],
      "metadata": {
        "id": "KwW00WMeqdV3"
      },
      "execution_count": null,
      "outputs": []
    },
    {
      "cell_type": "code",
      "source": [
        "# Data loading for validation\n",
        "validation_datagen = ImageDataGenerator(rescale=1./255)\n",
        "validation_generator = validation_datagen.flow_from_directory(\n",
        "        val_path,\n",
        "        target_size=image_size,\n",
        "        batch_size=batch_size,\n",
        "        class_mode='categorical')\n",
        "\n",
        "# Data loading for testing\n",
        "test_datagen = ImageDataGenerator(rescale=1./255)\n",
        "test_generator = test_datagen.flow_from_directory(\n",
        "        test_path,\n",
        "        target_size=image_size,\n",
        "        batch_size=batch_size,\n",
        "        class_mode='categorical')"
      ],
      "metadata": {
        "colab": {
          "base_uri": "https://localhost:8080/"
        },
        "id": "9khVZvuVqvIz",
        "outputId": "9f118d08-7209-4e77-f356-df6d94263201"
      },
      "execution_count": null,
      "outputs": [
        {
          "output_type": "stream",
          "name": "stdout",
          "text": [
            "Found 10 images belonging to 5 classes.\n",
            "Found 10 images belonging to 5 classes.\n"
          ]
        }
      ]
    },
    {
      "cell_type": "code",
      "source": [
        "model.fit(train_generator, epochs=23, validation_data=validation_generator)"
      ],
      "metadata": {
        "colab": {
          "base_uri": "https://localhost:8080/"
        },
        "id": "Tu-R5P3Rq_Aq",
        "outputId": "4a8e528f-1711-4525-d4e2-03d040b76251"
      },
      "execution_count": null,
      "outputs": [
        {
          "output_type": "stream",
          "name": "stdout",
          "text": [
            "Epoch 1/23\n",
            "24/24 [==============================] - 4s 184ms/step - loss: 0.4674 - accuracy: 0.7750 - val_loss: 0.4712 - val_accuracy: 0.9000\n",
            "Epoch 2/23\n",
            "24/24 [==============================] - 6s 249ms/step - loss: 0.5124 - accuracy: 0.7750 - val_loss: 0.4720 - val_accuracy: 0.8000\n",
            "Epoch 3/23\n",
            "24/24 [==============================] - 4s 171ms/step - loss: 0.4638 - accuracy: 0.8083 - val_loss: 0.4587 - val_accuracy: 0.8000\n",
            "Epoch 4/23\n",
            "24/24 [==============================] - 4s 157ms/step - loss: 0.5001 - accuracy: 0.7833 - val_loss: 0.4521 - val_accuracy: 0.8000\n",
            "Epoch 5/23\n",
            "24/24 [==============================] - 4s 155ms/step - loss: 0.4879 - accuracy: 0.8167 - val_loss: 0.4801 - val_accuracy: 0.8000\n",
            "Epoch 6/23\n",
            "24/24 [==============================] - 5s 199ms/step - loss: 0.4405 - accuracy: 0.8250 - val_loss: 0.4872 - val_accuracy: 0.7000\n",
            "Epoch 7/23\n",
            "24/24 [==============================] - 4s 150ms/step - loss: 0.4407 - accuracy: 0.8333 - val_loss: 0.4790 - val_accuracy: 0.7000\n",
            "Epoch 8/23\n",
            "24/24 [==============================] - 4s 150ms/step - loss: 0.3742 - accuracy: 0.8750 - val_loss: 0.4664 - val_accuracy: 0.8000\n",
            "Epoch 9/23\n",
            "24/24 [==============================] - 5s 200ms/step - loss: 0.3879 - accuracy: 0.8417 - val_loss: 0.4152 - val_accuracy: 0.9000\n",
            "Epoch 10/23\n",
            "24/24 [==============================] - 4s 155ms/step - loss: 0.4218 - accuracy: 0.8667 - val_loss: 0.3982 - val_accuracy: 1.0000\n",
            "Epoch 11/23\n",
            "24/24 [==============================] - 4s 154ms/step - loss: 0.4299 - accuracy: 0.8333 - val_loss: 0.4311 - val_accuracy: 0.8000\n",
            "Epoch 12/23\n",
            "24/24 [==============================] - 5s 187ms/step - loss: 0.4085 - accuracy: 0.8583 - val_loss: 0.3846 - val_accuracy: 0.9000\n",
            "Epoch 13/23\n",
            "24/24 [==============================] - 4s 156ms/step - loss: 0.3764 - accuracy: 0.8583 - val_loss: 0.3581 - val_accuracy: 0.9000\n",
            "Epoch 14/23\n",
            "24/24 [==============================] - 4s 152ms/step - loss: 0.3591 - accuracy: 0.8667 - val_loss: 0.3528 - val_accuracy: 1.0000\n",
            "Epoch 15/23\n",
            "24/24 [==============================] - 4s 158ms/step - loss: 0.3174 - accuracy: 0.8583 - val_loss: 0.3456 - val_accuracy: 0.8000\n",
            "Epoch 16/23\n",
            "24/24 [==============================] - 4s 152ms/step - loss: 0.3627 - accuracy: 0.8583 - val_loss: 0.3363 - val_accuracy: 0.8000\n",
            "Epoch 17/23\n",
            "24/24 [==============================] - 4s 175ms/step - loss: 0.3542 - accuracy: 0.8583 - val_loss: 0.4069 - val_accuracy: 0.8000\n",
            "Epoch 18/23\n",
            "24/24 [==============================] - 4s 156ms/step - loss: 0.3832 - accuracy: 0.8750 - val_loss: 0.4373 - val_accuracy: 0.8000\n",
            "Epoch 19/23\n",
            "24/24 [==============================] - 4s 158ms/step - loss: 0.4129 - accuracy: 0.8333 - val_loss: 0.3736 - val_accuracy: 0.9000\n",
            "Epoch 20/23\n",
            "24/24 [==============================] - 5s 194ms/step - loss: 0.3341 - accuracy: 0.8667 - val_loss: 0.3403 - val_accuracy: 0.9000\n",
            "Epoch 21/23\n",
            "24/24 [==============================] - 4s 153ms/step - loss: 0.3313 - accuracy: 0.8750 - val_loss: 0.2965 - val_accuracy: 1.0000\n",
            "Epoch 22/23\n",
            "24/24 [==============================] - 4s 154ms/step - loss: 0.3424 - accuracy: 0.8250 - val_loss: 0.3176 - val_accuracy: 1.0000\n",
            "Epoch 23/23\n",
            "24/24 [==============================] - 5s 199ms/step - loss: 0.3844 - accuracy: 0.8583 - val_loss: 0.3110 - val_accuracy: 0.9000\n"
          ]
        },
        {
          "output_type": "execute_result",
          "data": {
            "text/plain": [
              "<keras.src.callbacks.History at 0x7fc693d60730>"
            ]
          },
          "metadata": {},
          "execution_count": 63
        }
      ]
    },
    {
      "cell_type": "code",
      "source": [],
      "metadata": {
        "id": "zK53BPxQ7Sz-"
      },
      "execution_count": null,
      "outputs": []
    },
    {
      "cell_type": "markdown",
      "source": [
        "mobilenet"
      ],
      "metadata": {
        "id": "YMv5AWBosFEI"
      }
    },
    {
      "cell_type": "code",
      "source": [
        "from tensorflow.keras import layers\n",
        "from tensorflow.keras.models import Sequential\n",
        "\n"
      ],
      "metadata": {
        "id": "C4QoLjTOr6Ah"
      },
      "execution_count": null,
      "outputs": []
    },
    {
      "cell_type": "code",
      "source": [
        "img_size = (224, 224)\n",
        "train_data = tf.keras.utils.image_dataset_from_directory(\n",
        "    path,\n",
        "    batch_size=batch_size,\n",
        "    image_size=img_size,\n",
        "    validation_split=0.2,\n",
        "    subset=\"training\",\n",
        "    seed=42\n",
        ")\n"
      ],
      "metadata": {
        "colab": {
          "base_uri": "https://localhost:8080/"
        },
        "id": "ngCbpc_Gr-E_",
        "outputId": "9917c035-8373-4071-8575-a81dfce9489d"
      },
      "execution_count": null,
      "outputs": [
        {
          "output_type": "stream",
          "name": "stdout",
          "text": [
            "Found 120 files belonging to 5 classes.\n",
            "Using 96 files for training.\n"
          ]
        }
      ]
    },
    {
      "cell_type": "code",
      "source": [
        "\n",
        "train_datagen = ImageDataGenerator(rescale=1./255, shear_range=0.2, zoom_range=0.2, horizontal_flip=True)\n",
        "train_generator = train_datagen.flow_from_directory(\n",
        "        path,\n",
        "        target_size=image_size,\n",
        "        batch_size=batch_size,\n",
        "        class_mode='categorical')\n",
        "# Create the MobileNetV2 model\n",
        "base_model = tf.keras.applications.MobileNetV2(input_shape=(224, 224, 3),\n",
        "                                               include_top=False,\n",
        "                                               weights='imagenet')\n",
        "\n",
        "# Freeze the pre-trained layers\n",
        "base_model.trainable = False\n",
        "\n",
        "\n",
        "# Create a new model on top\n",
        "model = Sequential([\n",
        "     base_model,\n",
        "    layers.GlobalAveragePooling2D(),\n",
        "\n",
        "    layers.Dense(128, activation='relu'),\n",
        "    layers.Dropout(0.5),\n",
        "    layers.Dense(5, activation='softmax')\n",
        "])\n",
        "\n",
        "# Compile the model\n",
        "model.compile(optimizer='adam',\n",
        "              loss='categorical_crossentropy',\n",
        "              metrics=['accuracy'])"
      ],
      "metadata": {
        "colab": {
          "base_uri": "https://localhost:8080/"
        },
        "id": "wNAHz36xsUno",
        "outputId": "1e7b1eb8-c5a7-4acf-8d99-a0c6aab79af0"
      },
      "execution_count": null,
      "outputs": [
        {
          "output_type": "stream",
          "name": "stdout",
          "text": [
            "Found 120 images belonging to 5 classes.\n"
          ]
        }
      ]
    },
    {
      "cell_type": "code",
      "source": [
        "model.fit(train_generator, epochs=100)"
      ],
      "metadata": {
        "colab": {
          "base_uri": "https://localhost:8080/"
        },
        "id": "_y8gIDOnuCrH",
        "outputId": "0c4892d2-9f89-46bb-ded5-fe0512875796"
      },
      "execution_count": null,
      "outputs": [
        {
          "output_type": "stream",
          "name": "stdout",
          "text": [
            "Epoch 1/100\n",
            "24/24 [==============================] - 9s 353ms/step - loss: 0.2880 - accuracy: 0.8667\n",
            "Epoch 2/100\n",
            "24/24 [==============================] - 7s 272ms/step - loss: 0.2042 - accuracy: 0.9167\n",
            "Epoch 3/100\n",
            "24/24 [==============================] - 9s 390ms/step - loss: 0.1877 - accuracy: 0.9333\n",
            "Epoch 4/100\n",
            "24/24 [==============================] - 7s 275ms/step - loss: 0.1578 - accuracy: 0.9500\n",
            "Epoch 5/100\n",
            "24/24 [==============================] - 9s 346ms/step - loss: 0.2233 - accuracy: 0.8667\n",
            "Epoch 6/100\n",
            "24/24 [==============================] - 8s 341ms/step - loss: 0.2583 - accuracy: 0.8917\n",
            "Epoch 7/100\n",
            "24/24 [==============================] - 7s 266ms/step - loss: 0.1528 - accuracy: 0.9333\n",
            "Epoch 8/100\n",
            "24/24 [==============================] - 10s 394ms/step - loss: 0.2845 - accuracy: 0.8667\n",
            "Epoch 9/100\n",
            "24/24 [==============================] - 7s 267ms/step - loss: 0.2149 - accuracy: 0.9250\n",
            "Epoch 10/100\n",
            "24/24 [==============================] - 9s 365ms/step - loss: 0.2664 - accuracy: 0.8750\n",
            "Epoch 11/100\n",
            "24/24 [==============================] - 7s 269ms/step - loss: 0.2664 - accuracy: 0.8833\n",
            "Epoch 12/100\n",
            "24/24 [==============================] - 6s 264ms/step - loss: 0.2099 - accuracy: 0.9333\n",
            "Epoch 13/100\n",
            "24/24 [==============================] - 9s 364ms/step - loss: 0.2373 - accuracy: 0.8917\n",
            "Epoch 14/100\n",
            "24/24 [==============================] - 7s 287ms/step - loss: 0.3047 - accuracy: 0.8750\n",
            "Epoch 15/100\n",
            "24/24 [==============================] - 10s 396ms/step - loss: 0.2478 - accuracy: 0.9083\n",
            "Epoch 16/100\n",
            "24/24 [==============================] - 7s 277ms/step - loss: 0.1692 - accuracy: 0.9500\n",
            "Epoch 17/100\n",
            "24/24 [==============================] - 9s 393ms/step - loss: 0.2219 - accuracy: 0.9250\n",
            "Epoch 18/100\n",
            "24/24 [==============================] - 7s 277ms/step - loss: 0.1936 - accuracy: 0.9333\n",
            "Epoch 19/100\n",
            "24/24 [==============================] - 10s 396ms/step - loss: 0.2844 - accuracy: 0.8583\n",
            "Epoch 20/100\n",
            "24/24 [==============================] - 7s 274ms/step - loss: 0.2557 - accuracy: 0.8917\n",
            "Epoch 21/100\n",
            "24/24 [==============================] - 8s 315ms/step - loss: 0.2227 - accuracy: 0.9167\n",
            "Epoch 22/100\n",
            "24/24 [==============================] - 8s 319ms/step - loss: 0.3309 - accuracy: 0.8583\n",
            "Epoch 23/100\n",
            "24/24 [==============================] - 7s 271ms/step - loss: 0.2394 - accuracy: 0.9167\n",
            "Epoch 24/100\n",
            "24/24 [==============================] - 9s 362ms/step - loss: 0.1677 - accuracy: 0.9417\n",
            "Epoch 25/100\n",
            "24/24 [==============================] - 8s 320ms/step - loss: 0.2339 - accuracy: 0.8917\n",
            "Epoch 26/100\n",
            "24/24 [==============================] - 7s 277ms/step - loss: 0.1755 - accuracy: 0.9500\n",
            "Epoch 27/100\n",
            "24/24 [==============================] - 9s 383ms/step - loss: 0.2510 - accuracy: 0.9167\n",
            "Epoch 28/100\n",
            "24/24 [==============================] - 7s 264ms/step - loss: 0.1885 - accuracy: 0.9167\n",
            "Epoch 29/100\n",
            "24/24 [==============================] - 9s 370ms/step - loss: 0.2821 - accuracy: 0.9083\n",
            "Epoch 30/100\n",
            "24/24 [==============================] - 7s 286ms/step - loss: 0.2535 - accuracy: 0.8917\n",
            "Epoch 31/100\n",
            "24/24 [==============================] - 10s 398ms/step - loss: 0.2450 - accuracy: 0.8833\n",
            "Epoch 32/100\n",
            "24/24 [==============================] - 7s 279ms/step - loss: 0.2085 - accuracy: 0.9167\n",
            "Epoch 33/100\n",
            "24/24 [==============================] - 9s 348ms/step - loss: 0.2699 - accuracy: 0.9083\n",
            "Epoch 34/100\n",
            "24/24 [==============================] - 7s 303ms/step - loss: 0.2045 - accuracy: 0.9167\n",
            "Epoch 35/100\n",
            "24/24 [==============================] - 7s 268ms/step - loss: 0.1401 - accuracy: 0.9500\n",
            "Epoch 36/100\n",
            "24/24 [==============================] - 9s 356ms/step - loss: 0.1407 - accuracy: 0.9500\n",
            "Epoch 37/100\n",
            "24/24 [==============================] - 8s 316ms/step - loss: 0.2651 - accuracy: 0.9000\n",
            "Epoch 38/100\n",
            "24/24 [==============================] - 8s 340ms/step - loss: 0.2195 - accuracy: 0.9250\n",
            "Epoch 39/100\n",
            "24/24 [==============================] - 8s 342ms/step - loss: 0.1498 - accuracy: 0.9583\n",
            "Epoch 40/100\n",
            "24/24 [==============================] - 7s 273ms/step - loss: 0.1996 - accuracy: 0.8917\n",
            "Epoch 41/100\n",
            "24/24 [==============================] - 9s 393ms/step - loss: 0.1393 - accuracy: 0.9333\n",
            "Epoch 42/100\n",
            "24/24 [==============================] - 7s 274ms/step - loss: 0.1949 - accuracy: 0.9250\n",
            "Epoch 43/100\n",
            "24/24 [==============================] - 10s 395ms/step - loss: 0.1963 - accuracy: 0.9417\n",
            "Epoch 44/100\n",
            "24/24 [==============================] - 7s 277ms/step - loss: 0.1146 - accuracy: 0.9667\n",
            "Epoch 45/100\n",
            "24/24 [==============================] - 10s 395ms/step - loss: 0.1961 - accuracy: 0.9083\n",
            "Epoch 46/100\n",
            "24/24 [==============================] - 6s 264ms/step - loss: 0.2170 - accuracy: 0.9000\n",
            "Epoch 47/100\n",
            "24/24 [==============================] - 8s 332ms/step - loss: 0.1793 - accuracy: 0.9167\n",
            "Epoch 48/100\n",
            "24/24 [==============================] - 9s 351ms/step - loss: 0.1844 - accuracy: 0.9250\n",
            "Epoch 49/100\n",
            "24/24 [==============================] - 7s 270ms/step - loss: 0.1591 - accuracy: 0.9333\n",
            "Epoch 50/100\n",
            "24/24 [==============================] - 9s 353ms/step - loss: 0.1682 - accuracy: 0.9500\n",
            "Epoch 51/100\n",
            "24/24 [==============================] - 8s 339ms/step - loss: 0.2571 - accuracy: 0.9333\n",
            "Epoch 52/100\n",
            "24/24 [==============================] - 7s 274ms/step - loss: 0.1412 - accuracy: 0.9667\n",
            "Epoch 53/100\n",
            "24/24 [==============================] - 9s 393ms/step - loss: 0.1384 - accuracy: 0.9500\n",
            "Epoch 54/100\n",
            "24/24 [==============================] - 7s 277ms/step - loss: 0.1389 - accuracy: 0.9333\n",
            "Epoch 55/100\n",
            "24/24 [==============================] - 9s 348ms/step - loss: 0.2027 - accuracy: 0.9333\n",
            "Epoch 56/100\n",
            "24/24 [==============================] - 7s 283ms/step - loss: 0.1076 - accuracy: 0.9583\n",
            "Epoch 57/100\n",
            "24/24 [==============================] - 9s 373ms/step - loss: 0.2907 - accuracy: 0.8917\n",
            "Epoch 58/100\n",
            "24/24 [==============================] - 8s 318ms/step - loss: 0.1753 - accuracy: 0.9167\n",
            "Epoch 59/100\n",
            "24/24 [==============================] - 7s 281ms/step - loss: 0.1428 - accuracy: 0.9417\n",
            "Epoch 60/100\n",
            "24/24 [==============================] - 9s 360ms/step - loss: 0.2368 - accuracy: 0.9167\n",
            "Epoch 61/100\n",
            "24/24 [==============================] - 7s 272ms/step - loss: 0.1545 - accuracy: 0.9167\n",
            "Epoch 62/100\n",
            "24/24 [==============================] - 9s 382ms/step - loss: 0.2530 - accuracy: 0.9500\n",
            "Epoch 63/100\n",
            "24/24 [==============================] - 7s 275ms/step - loss: 0.1405 - accuracy: 0.9583\n",
            "Epoch 64/100\n",
            "24/24 [==============================] - 7s 279ms/step - loss: 0.2572 - accuracy: 0.9000\n",
            "Epoch 65/100\n",
            "24/24 [==============================] - 9s 392ms/step - loss: 0.2211 - accuracy: 0.8750\n",
            "Epoch 66/100\n",
            "24/24 [==============================] - 7s 275ms/step - loss: 0.1622 - accuracy: 0.9250\n",
            "Epoch 67/100\n",
            "24/24 [==============================] - 9s 378ms/step - loss: 0.1446 - accuracy: 0.9417\n",
            "Epoch 68/100\n",
            "24/24 [==============================] - 7s 272ms/step - loss: 0.1456 - accuracy: 0.9417\n",
            "Epoch 69/100\n",
            "24/24 [==============================] - 9s 384ms/step - loss: 0.1671 - accuracy: 0.9500\n",
            "Epoch 70/100\n",
            "24/24 [==============================] - 7s 273ms/step - loss: 0.1104 - accuracy: 0.9750\n",
            "Epoch 71/100\n",
            "24/24 [==============================] - 10s 397ms/step - loss: 0.2454 - accuracy: 0.9167\n",
            "Epoch 72/100\n",
            "24/24 [==============================] - 7s 271ms/step - loss: 0.1864 - accuracy: 0.9333\n",
            "Epoch 73/100\n",
            "24/24 [==============================] - 9s 390ms/step - loss: 0.2358 - accuracy: 0.9083\n",
            "Epoch 74/100\n",
            "24/24 [==============================] - 7s 273ms/step - loss: 0.1878 - accuracy: 0.9000\n",
            "Epoch 75/100\n",
            "24/24 [==============================] - 9s 391ms/step - loss: 0.1775 - accuracy: 0.9333\n",
            "Epoch 76/100\n",
            "24/24 [==============================] - 7s 271ms/step - loss: 0.1146 - accuracy: 0.9583\n",
            "Epoch 77/100\n",
            "24/24 [==============================] - 9s 371ms/step - loss: 0.1332 - accuracy: 0.9583\n",
            "Epoch 78/100\n",
            "24/24 [==============================] - 7s 275ms/step - loss: 0.2101 - accuracy: 0.9083\n",
            "Epoch 79/100\n",
            "24/24 [==============================] - 7s 270ms/step - loss: 0.1244 - accuracy: 0.9500\n",
            "Epoch 80/100\n",
            "24/24 [==============================] - 9s 384ms/step - loss: 0.1483 - accuracy: 0.9417\n",
            "Epoch 81/100\n",
            "24/24 [==============================] - 7s 271ms/step - loss: 0.1820 - accuracy: 0.9250\n",
            "Epoch 82/100\n",
            "24/24 [==============================] - 9s 372ms/step - loss: 0.1365 - accuracy: 0.9583\n",
            "Epoch 83/100\n",
            "24/24 [==============================] - 7s 272ms/step - loss: 0.1402 - accuracy: 0.9500\n",
            "Epoch 84/100\n",
            "24/24 [==============================] - 9s 386ms/step - loss: 0.1348 - accuracy: 0.9500\n",
            "Epoch 85/100\n",
            "24/24 [==============================] - 7s 275ms/step - loss: 0.2047 - accuracy: 0.9417\n",
            "Epoch 86/100\n",
            "24/24 [==============================] - 8s 339ms/step - loss: 0.1133 - accuracy: 0.9583\n",
            "Epoch 87/100\n",
            "24/24 [==============================] - 8s 352ms/step - loss: 0.0958 - accuracy: 0.9583\n",
            "Epoch 88/100\n",
            "24/24 [==============================] - 7s 275ms/step - loss: 0.1236 - accuracy: 0.9667\n",
            "Epoch 89/100\n",
            "24/24 [==============================] - 9s 345ms/step - loss: 0.1210 - accuracy: 0.9417\n",
            "Epoch 90/100\n",
            "24/24 [==============================] - 7s 287ms/step - loss: 0.1286 - accuracy: 0.9417\n",
            "Epoch 91/100\n",
            "24/24 [==============================] - 9s 371ms/step - loss: 0.1724 - accuracy: 0.9417\n",
            "Epoch 92/100\n",
            "24/24 [==============================] - 7s 276ms/step - loss: 0.1124 - accuracy: 0.9583\n",
            "Epoch 93/100\n",
            "24/24 [==============================] - 10s 389ms/step - loss: 0.1981 - accuracy: 0.9333\n",
            "Epoch 94/100\n",
            "24/24 [==============================] - 7s 268ms/step - loss: 0.1698 - accuracy: 0.9500\n",
            "Epoch 95/100\n",
            "24/24 [==============================] - 10s 390ms/step - loss: 0.1004 - accuracy: 0.9667\n",
            "Epoch 96/100\n",
            "24/24 [==============================] - 7s 276ms/step - loss: 0.1677 - accuracy: 0.9250\n",
            "Epoch 97/100\n",
            "24/24 [==============================] - 9s 380ms/step - loss: 0.1427 - accuracy: 0.9333\n",
            "Epoch 98/100\n",
            "24/24 [==============================] - 7s 285ms/step - loss: 0.1319 - accuracy: 0.9583\n",
            "Epoch 99/100\n",
            "24/24 [==============================] - 9s 365ms/step - loss: 0.1500 - accuracy: 0.9500\n",
            "Epoch 100/100\n",
            "24/24 [==============================] - 7s 296ms/step - loss: 0.0976 - accuracy: 0.9750\n"
          ]
        },
        {
          "output_type": "execute_result",
          "data": {
            "text/plain": [
              "<keras.src.callbacks.History at 0x7fed42172f80>"
            ]
          },
          "metadata": {},
          "execution_count": 71
        }
      ]
    },
    {
      "cell_type": "code",
      "source": [
        "# Data loading for validation\n",
        "validation_datagen = ImageDataGenerator(rescale=1./255)\n",
        "validation_generator = validation_datagen.flow_from_directory(\n",
        "        val_path,\n",
        "        target_size=image_size,\n",
        "        batch_size=batch_size,\n",
        "        class_mode='categorical')\n",
        "\n",
        "# Data loading for testing\n",
        "test_datagen = ImageDataGenerator(rescale=1./255)\n",
        "test_generator = test_datagen.flow_from_directory(\n",
        "        test_path,\n",
        "        target_size=image_size,\n",
        "        batch_size=batch_size,\n",
        "        class_mode='categorical')"
      ],
      "metadata": {
        "colab": {
          "base_uri": "https://localhost:8080/"
        },
        "id": "rolXZh50y2JR",
        "outputId": "7b52f2a1-08bf-40b8-9d05-5c52f883f422"
      },
      "execution_count": null,
      "outputs": [
        {
          "output_type": "stream",
          "name": "stdout",
          "text": [
            "Found 10 images belonging to 5 classes.\n",
            "Found 10 images belonging to 5 classes.\n"
          ]
        }
      ]
    },
    {
      "cell_type": "code",
      "source": [
        "model.fit(train_generator, epochs=100, validation_data=validation_generator)"
      ],
      "metadata": {
        "colab": {
          "base_uri": "https://localhost:8080/"
        },
        "id": "3ikuvhHNzBad",
        "outputId": "ffb8d9c4-2268-46b8-af2d-51426a250ac3"
      },
      "execution_count": null,
      "outputs": [
        {
          "output_type": "stream",
          "name": "stdout",
          "text": [
            "Epoch 1/100\n",
            "24/24 [==============================] - 16s 682ms/step - loss: 0.1862 - accuracy: 0.9167 - val_loss: 0.2992 - val_accuracy: 0.8000\n",
            "Epoch 2/100\n",
            "24/24 [==============================] - 7s 304ms/step - loss: 0.1382 - accuracy: 0.9167 - val_loss: 0.1627 - val_accuracy: 1.0000\n",
            "Epoch 3/100\n",
            "24/24 [==============================] - 8s 323ms/step - loss: 0.1491 - accuracy: 0.9333 - val_loss: 0.1883 - val_accuracy: 1.0000\n",
            "Epoch 4/100\n",
            "24/24 [==============================] - 10s 420ms/step - loss: 0.1579 - accuracy: 0.9333 - val_loss: 0.3710 - val_accuracy: 0.8000\n",
            "Epoch 5/100\n",
            "24/24 [==============================] - 7s 298ms/step - loss: 0.1460 - accuracy: 0.9333 - val_loss: 0.1314 - val_accuracy: 1.0000\n",
            "Epoch 6/100\n",
            "24/24 [==============================] - 10s 414ms/step - loss: 0.0953 - accuracy: 0.9583 - val_loss: 0.3607 - val_accuracy: 0.8000\n",
            "Epoch 7/100\n",
            "24/24 [==============================] - 7s 307ms/step - loss: 0.1386 - accuracy: 0.9333 - val_loss: 0.2389 - val_accuracy: 0.9000\n",
            "Epoch 8/100\n",
            "24/24 [==============================] - 10s 412ms/step - loss: 0.1089 - accuracy: 0.9583 - val_loss: 0.2522 - val_accuracy: 0.8000\n",
            "Epoch 9/100\n",
            "24/24 [==============================] - 8s 322ms/step - loss: 0.1027 - accuracy: 0.9750 - val_loss: 0.1197 - val_accuracy: 1.0000\n",
            "Epoch 10/100\n",
            "24/24 [==============================] - 11s 445ms/step - loss: 0.0963 - accuracy: 0.9667 - val_loss: 0.1387 - val_accuracy: 1.0000\n",
            "Epoch 11/100\n",
            "24/24 [==============================] - 8s 326ms/step - loss: 0.1580 - accuracy: 0.9250 - val_loss: 0.1078 - val_accuracy: 1.0000\n",
            "Epoch 12/100\n",
            "24/24 [==============================] - 11s 453ms/step - loss: 0.2440 - accuracy: 0.9167 - val_loss: 0.1940 - val_accuracy: 0.9000\n",
            "Epoch 13/100\n",
            "24/24 [==============================] - 7s 297ms/step - loss: 0.1647 - accuracy: 0.9500 - val_loss: 0.2277 - val_accuracy: 0.9000\n",
            "Epoch 14/100\n",
            "24/24 [==============================] - 8s 322ms/step - loss: 0.1547 - accuracy: 0.9250 - val_loss: 0.1643 - val_accuracy: 0.9000\n",
            "Epoch 15/100\n",
            "24/24 [==============================] - 10s 436ms/step - loss: 0.1239 - accuracy: 0.9500 - val_loss: 0.1405 - val_accuracy: 0.9000\n",
            "Epoch 16/100\n",
            "24/24 [==============================] - 11s 439ms/step - loss: 0.1883 - accuracy: 0.9333 - val_loss: 0.1926 - val_accuracy: 0.9000\n",
            "Epoch 17/100\n",
            "24/24 [==============================] - 9s 349ms/step - loss: 0.1424 - accuracy: 0.9167 - val_loss: 0.2092 - val_accuracy: 0.9000\n",
            "Epoch 18/100\n",
            "24/24 [==============================] - 8s 316ms/step - loss: 0.1739 - accuracy: 0.9333 - val_loss: 0.1316 - val_accuracy: 1.0000\n",
            "Epoch 19/100\n",
            "24/24 [==============================] - 11s 430ms/step - loss: 0.1873 - accuracy: 0.9250 - val_loss: 0.1844 - val_accuracy: 0.9000\n",
            "Epoch 20/100\n",
            "24/24 [==============================] - 8s 305ms/step - loss: 0.1379 - accuracy: 0.9417 - val_loss: 0.2964 - val_accuracy: 0.8000\n",
            "Epoch 21/100\n",
            "24/24 [==============================] - 10s 416ms/step - loss: 0.1496 - accuracy: 0.9500 - val_loss: 0.5548 - val_accuracy: 0.8000\n",
            "Epoch 22/100\n",
            "24/24 [==============================] - 8s 328ms/step - loss: 0.1386 - accuracy: 0.9583 - val_loss: 0.3699 - val_accuracy: 0.8000\n",
            "Epoch 23/100\n",
            "24/24 [==============================] - 9s 344ms/step - loss: 0.1015 - accuracy: 0.9750 - val_loss: 0.3034 - val_accuracy: 0.8000\n",
            "Epoch 24/100\n",
            "24/24 [==============================] - 10s 426ms/step - loss: 0.1020 - accuracy: 0.9583 - val_loss: 0.3058 - val_accuracy: 0.7000\n",
            "Epoch 25/100\n",
            "24/24 [==============================] - 8s 320ms/step - loss: 0.1594 - accuracy: 0.9333 - val_loss: 0.3538 - val_accuracy: 0.8000\n",
            "Epoch 26/100\n",
            "24/24 [==============================] - 10s 422ms/step - loss: 0.2673 - accuracy: 0.9000 - val_loss: 0.2402 - val_accuracy: 0.8000\n",
            "Epoch 27/100\n",
            "24/24 [==============================] - 8s 329ms/step - loss: 0.1439 - accuracy: 0.9583 - val_loss: 0.2122 - val_accuracy: 0.9000\n",
            "Epoch 28/100\n",
            "24/24 [==============================] - 8s 327ms/step - loss: 0.1728 - accuracy: 0.9250 - val_loss: 0.4862 - val_accuracy: 0.7000\n",
            "Epoch 29/100\n",
            "24/24 [==============================] - 11s 443ms/step - loss: 0.1736 - accuracy: 0.9250 - val_loss: 0.2112 - val_accuracy: 0.8000\n",
            "Epoch 30/100\n",
            "24/24 [==============================] - 10s 388ms/step - loss: 0.1703 - accuracy: 0.9250 - val_loss: 0.1857 - val_accuracy: 0.9000\n",
            "Epoch 31/100\n",
            "24/24 [==============================] - 8s 351ms/step - loss: 0.1623 - accuracy: 0.9417 - val_loss: 0.2796 - val_accuracy: 0.9000\n",
            "Epoch 32/100\n",
            "24/24 [==============================] - 8s 333ms/step - loss: 0.1190 - accuracy: 0.9583 - val_loss: 0.1252 - val_accuracy: 1.0000\n",
            "Epoch 33/100\n",
            "24/24 [==============================] - 10s 429ms/step - loss: 0.0939 - accuracy: 0.9750 - val_loss: 0.1806 - val_accuracy: 0.9000\n",
            "Epoch 34/100\n",
            "24/24 [==============================] - 9s 349ms/step - loss: 0.1061 - accuracy: 0.9583 - val_loss: 0.1788 - val_accuracy: 0.9000\n",
            "Epoch 35/100\n",
            "24/24 [==============================] - 10s 410ms/step - loss: 0.1988 - accuracy: 0.9250 - val_loss: 0.1718 - val_accuracy: 1.0000\n",
            "Epoch 36/100\n",
            "24/24 [==============================] - 8s 303ms/step - loss: 0.1311 - accuracy: 0.9583 - val_loss: 0.2718 - val_accuracy: 0.8000\n",
            "Epoch 37/100\n",
            "24/24 [==============================] - 10s 405ms/step - loss: 0.1369 - accuracy: 0.9583 - val_loss: 0.1516 - val_accuracy: 0.9000\n",
            "Epoch 38/100\n",
            "24/24 [==============================] - 8s 317ms/step - loss: 0.1251 - accuracy: 0.9583 - val_loss: 0.3968 - val_accuracy: 0.8000\n",
            "Epoch 39/100\n",
            "24/24 [==============================] - 11s 453ms/step - loss: 0.1401 - accuracy: 0.9583 - val_loss: 0.1717 - val_accuracy: 1.0000\n",
            "Epoch 40/100\n",
            "24/24 [==============================] - 10s 413ms/step - loss: 0.0838 - accuracy: 0.9833 - val_loss: 0.1664 - val_accuracy: 0.9000\n",
            "Epoch 41/100\n",
            "24/24 [==============================] - 9s 376ms/step - loss: 0.1109 - accuracy: 0.9667 - val_loss: 0.1952 - val_accuracy: 1.0000\n",
            "Epoch 42/100\n",
            "24/24 [==============================] - 8s 336ms/step - loss: 0.1117 - accuracy: 0.9583 - val_loss: 0.2884 - val_accuracy: 0.8000\n",
            "Epoch 43/100\n",
            "24/24 [==============================] - 11s 457ms/step - loss: 0.1062 - accuracy: 0.9583 - val_loss: 0.4030 - val_accuracy: 0.7000\n",
            "Epoch 44/100\n",
            "24/24 [==============================] - 10s 417ms/step - loss: 0.1168 - accuracy: 0.9333 - val_loss: 0.3274 - val_accuracy: 0.8000\n",
            "Epoch 45/100\n",
            "24/24 [==============================] - 8s 320ms/step - loss: 0.1181 - accuracy: 0.9500 - val_loss: 0.3963 - val_accuracy: 0.7000\n",
            "Epoch 46/100\n",
            "24/24 [==============================] - 10s 409ms/step - loss: 0.1220 - accuracy: 0.9417 - val_loss: 0.1608 - val_accuracy: 0.9000\n",
            "Epoch 47/100\n",
            "24/24 [==============================] - 9s 366ms/step - loss: 0.0890 - accuracy: 0.9667 - val_loss: 0.2128 - val_accuracy: 0.9000\n",
            "Epoch 48/100\n",
            "24/24 [==============================] - 8s 313ms/step - loss: 0.1315 - accuracy: 0.9417 - val_loss: 0.2481 - val_accuracy: 0.8000\n",
            "Epoch 49/100\n",
            "24/24 [==============================] - 11s 455ms/step - loss: 0.0943 - accuracy: 0.9667 - val_loss: 0.2089 - val_accuracy: 0.8000\n",
            "Epoch 50/100\n",
            "24/24 [==============================] - 8s 336ms/step - loss: 0.1535 - accuracy: 0.9500 - val_loss: 0.1760 - val_accuracy: 1.0000\n",
            "Epoch 51/100\n",
            "24/24 [==============================] - 10s 386ms/step - loss: 0.2086 - accuracy: 0.9083 - val_loss: 0.2238 - val_accuracy: 0.9000\n",
            "Epoch 52/100\n",
            "24/24 [==============================] - 9s 377ms/step - loss: 0.1242 - accuracy: 0.9583 - val_loss: 0.1634 - val_accuracy: 0.9000\n",
            "Epoch 53/100\n",
            "24/24 [==============================] - 8s 303ms/step - loss: 0.1092 - accuracy: 0.9500 - val_loss: 0.1957 - val_accuracy: 0.9000\n",
            "Epoch 54/100\n",
            "24/24 [==============================] - 11s 458ms/step - loss: 0.1391 - accuracy: 0.9667 - val_loss: 0.3782 - val_accuracy: 0.7000\n",
            "Epoch 55/100\n",
            "24/24 [==============================] - 7s 302ms/step - loss: 0.1607 - accuracy: 0.9417 - val_loss: 0.2020 - val_accuracy: 0.9000\n",
            "Epoch 56/100\n",
            "24/24 [==============================] - 11s 434ms/step - loss: 0.1520 - accuracy: 0.9583 - val_loss: 0.4157 - val_accuracy: 0.7000\n",
            "Epoch 57/100\n",
            "24/24 [==============================] - 8s 307ms/step - loss: 0.1249 - accuracy: 0.9583 - val_loss: 0.1890 - val_accuracy: 0.9000\n",
            "Epoch 58/100\n",
            "24/24 [==============================] - 10s 421ms/step - loss: 0.1506 - accuracy: 0.9083 - val_loss: 0.2476 - val_accuracy: 0.9000\n",
            "Epoch 59/100\n",
            "24/24 [==============================] - 7s 293ms/step - loss: 0.0797 - accuracy: 0.9833 - val_loss: 0.1461 - val_accuracy: 0.9000\n",
            "Epoch 60/100\n",
            "24/24 [==============================] - 10s 408ms/step - loss: 0.1522 - accuracy: 0.9417 - val_loss: 0.2347 - val_accuracy: 0.8000\n",
            "Epoch 61/100\n",
            "24/24 [==============================] - 7s 297ms/step - loss: 0.1329 - accuracy: 0.9417 - val_loss: 0.2382 - val_accuracy: 0.9000\n",
            "Epoch 62/100\n",
            "24/24 [==============================] - 10s 420ms/step - loss: 0.1269 - accuracy: 0.9417 - val_loss: 0.1793 - val_accuracy: 1.0000\n",
            "Epoch 63/100\n",
            "24/24 [==============================] - 7s 300ms/step - loss: 0.1123 - accuracy: 0.9583 - val_loss: 0.1463 - val_accuracy: 0.9000\n",
            "Epoch 64/100\n",
            "24/24 [==============================] - 10s 396ms/step - loss: 0.1569 - accuracy: 0.9500 - val_loss: 0.5047 - val_accuracy: 0.8000\n",
            "Epoch 65/100\n",
            "24/24 [==============================] - 9s 366ms/step - loss: 0.1040 - accuracy: 0.9667 - val_loss: 0.2488 - val_accuracy: 0.8000\n",
            "Epoch 66/100\n",
            "24/24 [==============================] - 7s 286ms/step - loss: 0.1391 - accuracy: 0.9500 - val_loss: 0.2084 - val_accuracy: 0.9000\n",
            "Epoch 67/100\n",
            "24/24 [==============================] - 10s 398ms/step - loss: 0.1390 - accuracy: 0.9500 - val_loss: 0.2362 - val_accuracy: 0.9000\n",
            "Epoch 68/100\n",
            "24/24 [==============================] - 8s 341ms/step - loss: 0.1245 - accuracy: 0.9583 - val_loss: 0.3538 - val_accuracy: 0.8000\n",
            "Epoch 69/100\n",
            "24/24 [==============================] - 7s 299ms/step - loss: 0.1377 - accuracy: 0.9333 - val_loss: 0.2492 - val_accuracy: 0.8000\n",
            "Epoch 70/100\n",
            "24/24 [==============================] - 10s 433ms/step - loss: 0.0958 - accuracy: 0.9667 - val_loss: 0.2698 - val_accuracy: 0.8000\n",
            "Epoch 71/100\n",
            "24/24 [==============================] - 7s 302ms/step - loss: 0.0845 - accuracy: 0.9500 - val_loss: 0.2569 - val_accuracy: 0.8000\n",
            "Epoch 72/100\n",
            "24/24 [==============================] - 9s 361ms/step - loss: 0.1169 - accuracy: 0.9333 - val_loss: 0.1255 - val_accuracy: 1.0000\n",
            "Epoch 73/100\n",
            "24/24 [==============================] - 8s 336ms/step - loss: 0.1242 - accuracy: 0.9500 - val_loss: 0.2841 - val_accuracy: 0.8000\n",
            "Epoch 74/100\n",
            "24/24 [==============================] - 7s 295ms/step - loss: 0.0940 - accuracy: 0.9750 - val_loss: 0.1976 - val_accuracy: 0.9000\n",
            "Epoch 75/100\n",
            "24/24 [==============================] - 10s 428ms/step - loss: 0.1102 - accuracy: 0.9667 - val_loss: 0.3040 - val_accuracy: 0.8000\n",
            "Epoch 76/100\n",
            "24/24 [==============================] - 9s 372ms/step - loss: 0.0766 - accuracy: 0.9833 - val_loss: 0.2787 - val_accuracy: 0.8000\n",
            "Epoch 77/100\n",
            "24/24 [==============================] - 9s 394ms/step - loss: 0.0698 - accuracy: 0.9833 - val_loss: 0.2131 - val_accuracy: 0.9000\n",
            "Epoch 78/100\n",
            "24/24 [==============================] - 8s 303ms/step - loss: 0.1485 - accuracy: 0.9500 - val_loss: 0.1387 - val_accuracy: 1.0000\n",
            "Epoch 79/100\n",
            "24/24 [==============================] - 10s 415ms/step - loss: 0.1104 - accuracy: 0.9417 - val_loss: 0.3944 - val_accuracy: 0.8000\n",
            "Epoch 80/100\n",
            "24/24 [==============================] - 7s 304ms/step - loss: 0.1300 - accuracy: 0.9500 - val_loss: 0.1734 - val_accuracy: 0.9000\n",
            "Epoch 81/100\n",
            "24/24 [==============================] - 10s 392ms/step - loss: 0.1412 - accuracy: 0.9333 - val_loss: 0.2019 - val_accuracy: 1.0000\n",
            "Epoch 82/100\n",
            "24/24 [==============================] - 8s 328ms/step - loss: 0.2622 - accuracy: 0.9333 - val_loss: 0.1796 - val_accuracy: 0.9000\n",
            "Epoch 83/100\n",
            "24/24 [==============================] - 7s 293ms/step - loss: 0.1703 - accuracy: 0.9417 - val_loss: 0.2175 - val_accuracy: 0.9000\n",
            "Epoch 84/100\n",
            "24/24 [==============================] - 10s 425ms/step - loss: 0.1648 - accuracy: 0.9583 - val_loss: 0.1818 - val_accuracy: 1.0000\n",
            "Epoch 85/100\n",
            "24/24 [==============================] - 7s 292ms/step - loss: 0.1878 - accuracy: 0.9083 - val_loss: 0.1693 - val_accuracy: 1.0000\n",
            "Epoch 86/100\n",
            "24/24 [==============================] - 9s 372ms/step - loss: 0.1603 - accuracy: 0.9500 - val_loss: 0.2012 - val_accuracy: 0.8000\n",
            "Epoch 87/100\n",
            "24/24 [==============================] - 9s 357ms/step - loss: 0.1286 - accuracy: 0.9417 - val_loss: 0.1471 - val_accuracy: 0.9000\n",
            "Epoch 88/100\n",
            "24/24 [==============================] - 8s 310ms/step - loss: 0.1241 - accuracy: 0.9417 - val_loss: 0.0946 - val_accuracy: 1.0000\n",
            "Epoch 89/100\n",
            "24/24 [==============================] - 10s 394ms/step - loss: 0.1446 - accuracy: 0.9500 - val_loss: 0.1631 - val_accuracy: 1.0000\n",
            "Epoch 90/100\n",
            "24/24 [==============================] - 9s 352ms/step - loss: 0.1698 - accuracy: 0.9333 - val_loss: 0.1561 - val_accuracy: 1.0000\n",
            "Epoch 91/100\n",
            "24/24 [==============================] - 9s 362ms/step - loss: 0.1489 - accuracy: 0.9333 - val_loss: 0.1211 - val_accuracy: 1.0000\n",
            "Epoch 92/100\n",
            "24/24 [==============================] - 10s 405ms/step - loss: 0.0883 - accuracy: 0.9667 - val_loss: 0.1496 - val_accuracy: 0.9000\n",
            "Epoch 93/100\n",
            "24/24 [==============================] - 7s 304ms/step - loss: 0.0527 - accuracy: 0.9833 - val_loss: 0.1627 - val_accuracy: 0.9000\n",
            "Epoch 94/100\n",
            "24/24 [==============================] - 10s 408ms/step - loss: 0.0890 - accuracy: 0.9750 - val_loss: 0.1234 - val_accuracy: 1.0000\n",
            "Epoch 95/100\n",
            "24/24 [==============================] - 7s 289ms/step - loss: 0.1460 - accuracy: 0.9500 - val_loss: 0.1906 - val_accuracy: 0.9000\n",
            "Epoch 96/100\n",
            "24/24 [==============================] - 9s 353ms/step - loss: 0.0708 - accuracy: 0.9750 - val_loss: 0.1273 - val_accuracy: 1.0000\n",
            "Epoch 97/100\n",
            "24/24 [==============================] - 10s 407ms/step - loss: 0.1892 - accuracy: 0.9333 - val_loss: 0.5561 - val_accuracy: 0.8000\n",
            "Epoch 98/100\n",
            "24/24 [==============================] - 7s 286ms/step - loss: 0.1877 - accuracy: 0.9250 - val_loss: 0.2404 - val_accuracy: 0.8000\n",
            "Epoch 99/100\n",
            "24/24 [==============================] - 10s 423ms/step - loss: 0.1751 - accuracy: 0.9333 - val_loss: 0.3158 - val_accuracy: 0.8000\n",
            "Epoch 100/100\n",
            "24/24 [==============================] - 7s 302ms/step - loss: 0.1268 - accuracy: 0.9500 - val_loss: 0.1362 - val_accuracy: 1.0000\n"
          ]
        },
        {
          "output_type": "execute_result",
          "data": {
            "text/plain": [
              "<keras.src.callbacks.History at 0x7fed42408bb0>"
            ]
          },
          "metadata": {},
          "execution_count": 75
        }
      ]
    },
    {
      "cell_type": "code",
      "source": [
        "model.evaluate(test_generator)"
      ],
      "metadata": {
        "colab": {
          "base_uri": "https://localhost:8080/"
        },
        "id": "H6-PxjbpGpXV",
        "outputId": "d976874d-7680-4953-a1c4-9c8ecebdd365"
      },
      "execution_count": null,
      "outputs": [
        {
          "output_type": "stream",
          "name": "stdout",
          "text": [
            "2/2 [==============================] - 4s 3s/step - loss: 0.1310 - accuracy: 0.9000\n"
          ]
        },
        {
          "output_type": "execute_result",
          "data": {
            "text/plain": [
              "[0.13101384043693542, 0.8999999761581421]"
            ]
          },
          "metadata": {},
          "execution_count": 76
        }
      ]
    },
    {
      "cell_type": "markdown",
      "source": [
        "color hist + KNN"
      ],
      "metadata": {
        "id": "DbFFzapSv8mi"
      }
    },
    {
      "cell_type": "code",
      "source": [
        "import numpy as np\n",
        "import cv2\n",
        "from sklearn.model_selection import train_test_split\n",
        "from sklearn.neighbors import KNeighborsClassifier\n",
        "from sklearn.metrics import accuracy_score\n",
        "from sklearn.preprocessing import StandardScaler\n",
        "from sklearn.model_selection import cross_val_score\n"
      ],
      "metadata": {
        "id": "W-Hl-jeLWvdN"
      },
      "execution_count": null,
      "outputs": []
    },
    {
      "cell_type": "code",
      "source": [
        "# Extract color histogram features from the images\n",
        "def extract_histogram(image):\n",
        "    hsv = cv2.cvtColor(image, cv2.COLOR_BGR2HSV)\n",
        "    hist_hue = cv2.calcHist([hsv], [0], None, [256], [0, 256])\n",
        "    hist_saturation = cv2.calcHist([hsv], [1], None, [256], [0, 256])\n",
        "    hist_value = cv2.calcHist([hsv], [2], None, [256], [0, 256])\n",
        "    hist_features = np.concatenate([hist_hue, hist_saturation, hist_value]).flatten()\n",
        "    return hist_features\n"
      ],
      "metadata": {
        "id": "DdBtdobwZmTt"
      },
      "execution_count": null,
      "outputs": []
    },
    {
      "cell_type": "code",
      "source": [
        "\n",
        "# Access the images and labels from the generator\n",
        "training_images = []\n",
        "training_labels = []\n",
        "\n",
        "for images, labels in train_generator:\n",
        "    for image, label in zip(images, labels):\n",
        "        training_images.append(image)\n",
        "        training_labels.append(np.argmax(label))  # Assuming one-hot encoded labels\n",
        "\n",
        "    if len(training_images) >= len(train_generator.filenames):\n",
        "        break\n",
        "# Convert lists to numpy arrays\n",
        "training_images = np.array(training_images)\n",
        "training_labels = np.array(training_labels)\n"
      ],
      "metadata": {
        "id": "EnbxK9fkZsXx"
      },
      "execution_count": null,
      "outputs": []
    },
    {
      "cell_type": "code",
      "source": [
        "X_train_hist = [extract_histogram(image) for image in training_images]\n"
      ],
      "metadata": {
        "id": "QJkKZELNe6dF"
      },
      "execution_count": null,
      "outputs": []
    },
    {
      "cell_type": "code",
      "source": [
        "scaler = StandardScaler()\n",
        "X_train_scaled = scaler.fit_transform(X_train_hist)\n",
        "# Define a range of neighbors to try\n",
        "neighbors_range = list(range(1, 21))  # You can adjust the range as needed\n",
        "\n",
        "# Perform cross-validation for different values of n_neighbors\n",
        "cv_scores = []\n",
        "\n",
        "for n_neighbors in neighbors_range:\n",
        "    knn_classifier = KNeighborsClassifier(n_neighbors=n_neighbors)\n",
        "    scores = cross_val_score(knn_classifier, X_train_scaled, training_labels, cv=5)  # 5-fold cross-validation\n",
        "    cv_scores.append(scores.mean())\n",
        "\n",
        "# Find the optimal number of neighbors based on cross-validation scores\n",
        "optimal_neighbors = neighbors_range[np.argmax(cv_scores)]\n",
        "print(f\"Optimal number of neighbors: {optimal_neighbors}\")\n",
        "\n",
        "# Plot the cross-validation scores\n",
        "import matplotlib.pyplot as plt\n",
        "\n",
        "plt.plot(neighbors_range, cv_scores, marker='o')\n",
        "plt.xlabel('Number of Neighbors')\n",
        "plt.ylabel('Cross-Validation Score')\n",
        "plt.title('Cross-Validation Scores for Different Neighbors')\n",
        "plt.show()"
      ],
      "metadata": {
        "colab": {
          "base_uri": "https://localhost:8080/",
          "height": 489
        },
        "id": "yjCPVY_0gQ_6",
        "outputId": "ddc78db1-7ce1-4b6c-dc9b-5d4b48e2a7a6"
      },
      "execution_count": null,
      "outputs": [
        {
          "output_type": "stream",
          "name": "stdout",
          "text": [
            "Optimal number of neighbors: 19\n"
          ]
        },
        {
          "output_type": "display_data",
          "data": {
            "text/plain": [
              "<Figure size 640x480 with 1 Axes>"
            ],
            "image/png": "[encoded data removed]"
          },
          "metadata": {}
        }
      ]
    },
    {
      "cell_type": "code",
      "source": [
        "# Initialize KNN classifier\n",
        "knn_classifier = KNeighborsClassifier(n_neighbors=3)"
      ],
      "metadata": {
        "id": "v8mr2mf7e43H"
      },
      "execution_count": null,
      "outputs": []
    },
    {
      "cell_type": "code",
      "source": [
        "knn_classifier.fit(X_train_hist, training_labels)\n"
      ],
      "metadata": {
        "colab": {
          "base_uri": "https://localhost:8080/",
          "height": 74
        },
        "id": "l0uk3vyYe_Ox",
        "outputId": "163a353a-1b45-48ff-c61f-3144c58f0ca0"
      },
      "execution_count": null,
      "outputs": [
        {
          "output_type": "execute_result",
          "data": {
            "text/plain": [
              "KNeighborsClassifier(n_neighbors=3)"
            ],
            "text/html": [
              "<style>#sk-container-id-2 {color: black;background-color: white;}#sk-container-id-2 pre{padding: 0;}#sk-container-id-2 div.sk-toggleable {background-color: white;}#sk-container-id-2 label.sk-toggleable__label {cursor: pointer;display: block;width: 100%;margin-bottom: 0;padding: 0.3em;box-sizing: border-box;text-align: center;}#sk-container-id-2 label.sk-toggleable__label-arrow:before {content: \"▸\";float: left;margin-right: 0.25em;color: #696969;}#sk-container-id-2 label.sk-toggleable__label-arrow:hover:before {color: black;}#sk-container-id-2 div.sk-estimator:hover label.sk-toggleable__label-arrow:before {color: black;}#sk-container-id-2 div.sk-toggleable__content {max-height: 0;max-width: 0;overflow: hidden;text-align: left;background-color: #f0f8ff;}#sk-container-id-2 div.sk-toggleable__content pre {margin: 0.2em;color: black;border-radius: 0.25em;background-color: #f0f8ff;}#sk-container-id-2 input.sk-toggleable__control:checked~div.sk-toggleable__content {max-height: 200px;max-width: 100%;overflow: auto;}#sk-container-id-2 input.sk-toggleable__control:checked~label.sk-toggleable__label-arrow:before {content: \"▾\";}#sk-container-id-2 div.sk-estimator input.sk-toggleable__control:checked~label.sk-toggleable__label {background-color: #d4ebff;}#sk-container-id-2 div.sk-label input.sk-toggleable__control:checked~label.sk-toggleable__label {background-color: #d4ebff;}#sk-container-id-2 input.sk-hidden--visually {border: 0;clip: rect(1px 1px 1px 1px);clip: rect(1px, 1px, 1px, 1px);height: 1px;margin: -1px;overflow: hidden;padding: 0;position: absolute;width: 1px;}#sk-container-id-2 div.sk-estimator {font-family: monospace;background-color: #f0f8ff;border: 1px dotted black;border-radius: 0.25em;box-sizing: border-box;margin-bottom: 0.5em;}#sk-container-id-2 div.sk-estimator:hover {background-color: #d4ebff;}#sk-container-id-2 div.sk-parallel-item::after {content: \"\";width: 100%;border-bottom: 1px solid gray;flex-grow: 1;}#sk-container-id-2 div.sk-label:hover label.sk-toggleable__label {background-color: #d4ebff;}#sk-container-id-2 div.sk-serial::before {content: \"\";position: absolute;border-left: 1px solid gray;box-sizing: border-box;top: 0;bottom: 0;left: 50%;z-index: 0;}#sk-container-id-2 div.sk-serial {display: flex;flex-direction: column;align-items: center;background-color: white;padding-right: 0.2em;padding-left: 0.2em;position: relative;}#sk-container-id-2 div.sk-item {position: relative;z-index: 1;}#sk-container-id-2 div.sk-parallel {display: flex;align-items: stretch;justify-content: center;background-color: white;position: relative;}#sk-container-id-2 div.sk-item::before, #sk-container-id-2 div.sk-parallel-item::before {content: \"\";position: absolute;border-left: 1px solid gray;box-sizing: border-box;top: 0;bottom: 0;left: 50%;z-index: -1;}#sk-container-id-2 div.sk-parallel-item {display: flex;flex-direction: column;z-index: 1;position: relative;background-color: white;}#sk-container-id-2 div.sk-parallel-item:first-child::after {align-self: flex-end;width: 50%;}#sk-container-id-2 div.sk-parallel-item:last-child::after {align-self: flex-start;width: 50%;}#sk-container-id-2 div.sk-parallel-item:only-child::after {width: 0;}#sk-container-id-2 div.sk-dashed-wrapped {border: 1px dashed gray;margin: 0 0.4em 0.5em 0.4em;box-sizing: border-box;padding-bottom: 0.4em;background-color: white;}#sk-container-id-2 div.sk-label label {font-family: monospace;font-weight: bold;display: inline-block;line-height: 1.2em;}#sk-container-id-2 div.sk-label-container {text-align: center;}#sk-container-id-2 div.sk-container {/* jupyter's `normalize.less` sets `[hidden] { display: none; }` but bootstrap.min.css set `[hidden] { display: none !important; }` so we also need the `!important` here to be able to override the default hidden behavior on the sphinx rendered scikit-learn.org. See: https://github.com/scikit-learn/scikit-learn/issues/21755 */display: inline-block !important;position: relative;}#sk-container-id-2 div.sk-text-repr-fallback {display: none;}</style><div id=\"sk-container-id-2\" class=\"sk-top-container\"><div class=\"sk-text-repr-fallback\"><pre>KNeighborsClassifier(n_neighbors=3)</pre><b>In a Jupyter environment, please rerun this cell to show the HTML representation or trust the notebook. <br />On GitHub, the HTML representation is unable to render, please try loading this page with nbviewer.org.</b></div><div class=\"sk-container\" hidden><div class=\"sk-item\"><div class=\"sk-estimator sk-toggleable\"><input class=\"sk-toggleable__control sk-hidden--visually\" id=\"sk-estimator-id-2\" type=\"checkbox\" checked><label for=\"sk-estimator-id-2\" class=\"sk-toggleable__label sk-toggleable__label-arrow\">KNeighborsClassifier</label><div class=\"sk-toggleable__content\"><pre>KNeighborsClassifier(n_neighbors=3)</pre></div></div></div></div></div>"
            ]
          },
          "metadata": {},
          "execution_count": 32
        }
      ]
    },
    {
      "cell_type": "code",
      "source": [
        "training_predictions = knn_classifier.predict(X_train_hist)"
      ],
      "metadata": {
        "id": "QUXshq74fiuF"
      },
      "execution_count": null,
      "outputs": []
    },
    {
      "cell_type": "code",
      "source": [
        "training_accuracy = accuracy_score(training_labels, training_predictions)\n",
        "print(f\"Training Accuracy: {training_accuracy * 100:.2f}%\")"
      ],
      "metadata": {
        "colab": {
          "base_uri": "https://localhost:8080/"
        },
        "id": "x_zgmJzVfk08",
        "outputId": "f973976f-d179-43e1-f45f-9fb240e5723d"
      },
      "execution_count": null,
      "outputs": [
        {
          "output_type": "stream",
          "name": "stdout",
          "text": [
            "Training Accuracy: 68.33%\n"
          ]
        }
      ]
    }
  ]
}